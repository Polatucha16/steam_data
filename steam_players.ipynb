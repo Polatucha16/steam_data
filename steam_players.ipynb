{
 "cells": [
  {
   "cell_type": "markdown",
   "metadata": {},
   "source": [
    "# Steam players data.\n",
    "1. Games to zebrane dane o grach jakie ktoś posiada i ile w nie grał.\n",
    "2. Info to dane z pierwszej strony profilu steama.\n",
    "3. Reviews to recenzje.\n",
    "4. Groups to grupy do których należy.\n",
    "5. Clustered_games to moje wstępne poklastrowanie tak, żeby nie babrać się z 50k+ grami.\n",
    "6. steam_top_1k to ręcznie wyciągnięte przeze mnie najpopularniejsze gry. Teraz tego używam bo pierwsze clustered_games było problematyczne."
   ]
  },
  {
   "cell_type": "markdown",
   "metadata": {
    "vscode": {
     "languageId": "plaintext"
    }
   },
   "source": [
    "# DB connection / games_data.csv from steam_players db"
   ]
  },
  {
   "cell_type": "code",
   "execution_count": 10,
   "metadata": {},
   "outputs": [],
   "source": [
    "from sqlalchemy import create_engine\n",
    "\n",
    "server = 'localhost'\n",
    "database = 'steam_players'\n",
    "# username = '<your_username>'\n",
    "# password = '<your_password>'\n",
    "driver = 'ODBC Driver 17 for SQL Server'\n",
    "\n",
    "engine = create_engine(f'mssql://{server}:1433/{database}?trusted_connection=yes&driver={driver}')"
   ]
  },
  {
   "cell_type": "code",
   "execution_count": 11,
   "metadata": {},
   "outputs": [
    {
     "data": {
      "text/html": [
       "<div><style>\n",
       ".dataframe > thead > tr,\n",
       ".dataframe > tbody > tr {\n",
       "  text-align: right;\n",
       "  white-space: pre-wrap;\n",
       "}\n",
       "</style>\n",
       "<small>shape: (18_712, 3)</small><table border=\"1\" class=\"dataframe\"><thead><tr><th>profile_code</th><th>game_0</th><th>game_1</th></tr><tr><td>i64</td><td>i64</td><td>i64</td></tr></thead><tbody><tr><td>212301</td><td>15</td><td>0</td></tr><tr><td>212435</td><td>1219</td><td>0</td></tr><tr><td>212486</td><td>0</td><td>0</td></tr><tr><td>212561</td><td>0</td><td>0</td></tr><tr><td>212619</td><td>719</td><td>0</td></tr><tr><td>&hellip;</td><td>&hellip;</td><td>&hellip;</td></tr><tr><td>99742</td><td>0</td><td>0</td></tr><tr><td>168498</td><td>0</td><td>1409</td></tr><tr><td>2607808</td><td>0</td><td>1</td></tr><tr><td>130971</td><td>0</td><td>2747</td></tr><tr><td>173267</td><td>0</td><td>0</td></tr></tbody></table></div>"
      ],
      "text/plain": [
       "shape: (18_712, 3)\n",
       "┌──────────────┬────────┬────────┐\n",
       "│ profile_code ┆ game_0 ┆ game_1 │\n",
       "│ ---          ┆ ---    ┆ ---    │\n",
       "│ i64          ┆ i64    ┆ i64    │\n",
       "╞══════════════╪════════╪════════╡\n",
       "│ 212301       ┆ 15     ┆ 0      │\n",
       "│ 212435       ┆ 1219   ┆ 0      │\n",
       "│ 212486       ┆ 0      ┆ 0      │\n",
       "│ 212561       ┆ 0      ┆ 0      │\n",
       "│ 212619       ┆ 719    ┆ 0      │\n",
       "│ …            ┆ …      ┆ …      │\n",
       "│ 99742        ┆ 0      ┆ 0      │\n",
       "│ 168498       ┆ 0      ┆ 1409   │\n",
       "│ 2607808      ┆ 0      ┆ 1      │\n",
       "│ 130971       ┆ 0      ┆ 2747   │\n",
       "│ 173267       ┆ 0      ┆ 0      │\n",
       "└──────────────┴────────┴────────┘"
      ]
     },
     "execution_count": 11,
     "metadata": {},
     "output_type": "execute_result"
    }
   ],
   "source": [
    "from query_generators.generators import query_for_gamecodes\n",
    "import polars as pl\n",
    "\n",
    "pl.read_database(query=query_for_gamecodes(code_list=[18723, 52848]), connection=engine.connect())"
   ]
  },
  {
   "cell_type": "code",
   "execution_count": 2,
   "metadata": {},
   "outputs": [
    {
     "data": {
      "text/html": [
       "<div><style>\n",
       ".dataframe > thead > tr,\n",
       ".dataframe > tbody > tr {\n",
       "  text-align: right;\n",
       "  white-space: pre-wrap;\n",
       "}\n",
       "</style>\n",
       "<small>shape: (4, 1)</small><table border=\"1\" class=\"dataframe\"><thead><tr><th>COLUMN_NAME</th></tr><tr><td>str</td></tr></thead><tbody><tr><td>&quot;hours_on_recor…</td></tr><tr><td>&quot;hours_last_2_w…</td></tr><tr><td>&quot;profile_code&quot;</td></tr><tr><td>&quot;game_name&quot;</td></tr></tbody></table></div>"
      ],
      "text/plain": [
       "shape: (4, 1)\n",
       "┌────────────────────┐\n",
       "│ COLUMN_NAME        │\n",
       "│ ---                │\n",
       "│ str                │\n",
       "╞════════════════════╡\n",
       "│ hours_on_record    │\n",
       "│ hours_last_2_weeks │\n",
       "│ profile_code       │\n",
       "│ game_name          │\n",
       "└────────────────────┘"
      ]
     },
     "execution_count": 2,
     "metadata": {},
     "output_type": "execute_result"
    }
   ],
   "source": [
    "# columns: hours_on_record, hours_last_2_weeks, profile_code, game_name\n",
    "import polars as pl\n",
    "\n",
    "query = \"\"\"SELECT COLUMN_NAME FROM INFORMATION_SCHEMA.COLUMNS WHERE TABLE_NAME = 'games_data'\"\"\"\n",
    "\n",
    "pl.read_database(query=query, connection=engine.connect())"
   ]
  },
  {
   "cell_type": "markdown",
   "metadata": {},
   "source": [
    "## Total times statistics"
   ]
  },
  {
   "cell_type": "markdown",
   "metadata": {},
   "source": [
    "### Players totals"
   ]
  },
  {
   "cell_type": "code",
   "execution_count": 9,
   "metadata": {},
   "outputs": [
    {
     "data": {
      "image/png": "[encoded data removed]",
      "text/plain": [
       "<Figure size 640x480 with 1 Axes>"
      ]
     },
     "metadata": {},
     "output_type": "display_data"
    }
   ],
   "source": [
    "import polars as pl\n",
    "import matplotlib.pyplot as plt\n",
    "import numpy as np\n",
    "\n",
    "min_playtime, max_playtime = 1.0, 20_000.0\n",
    "\n",
    "query = \"\"\"SELECT total_hours FROM [steam_players].[dbo].[nonzero_players] ORDER BY total_hours DESC\"\"\"\n",
    "\n",
    "all_total_times = pl.read_database(query=query, connection=engine.connect()).to_numpy().reshape(-1)\n",
    "total_times = all_total_times[all_total_times > min_playtime]\n",
    "total_times = total_times[total_times < max_playtime]\n",
    "total_times\n",
    "\n",
    "fig, ax = plt.subplots(1, sharey=True, tight_layout=True)\n",
    "ax.hist(total_times, bins=100)\n",
    "fig.suptitle(f'Players : {min_playtime} < total play time < {max_playtime} hours', fontsize=14, fontweight='bold')\n",
    "stats_string = f\"\"\"mean = {np.mean(total_times):.1f}, median = {np.median(total_times):.1f}, standard deviation = {np.std(total_times):.1f}\n",
    "90% of population have between {np.percentile(total_times,5):.1f} and {np.percentile(total_times,95):.1f} hours of play\"\"\"\n",
    "ax.set_title(stats_string)\n",
    "plt.show()"
   ]
  },
  {
   "cell_type": "code",
   "execution_count": 6,
   "metadata": {},
   "outputs": [
    {
     "name": "stdout",
     "output_type": "stream",
     "text": [
      "shape: (10, 2)\n",
      "┌──────────────┬─────────────┐\n",
      "│ profile_code ┆ total_hours │\n",
      "│ ---          ┆ ---         │\n",
      "│ i64          ┆ i64         │\n",
      "╞══════════════╪═════════════╡\n",
      "│ 176197       ┆ 10000       │\n",
      "│ 315487       ┆ 10000       │\n",
      "│ 429889       ┆ 10000       │\n",
      "│ 77804        ┆ 9999        │\n",
      "│ 345511       ┆ 9999        │\n",
      "│ 145956       ┆ 9999        │\n",
      "│ 358230       ┆ 9999        │\n",
      "│ 410466       ┆ 9998        │\n",
      "│ 80789        ┆ 9998        │\n",
      "│ 350367       ┆ 9998        │\n",
      "└──────────────┴─────────────┘\n"
     ]
    }
   ],
   "source": [
    "import polars as pl\n",
    "\n",
    "min_playtime, max_playtime = 1.0, 10_000.0\n",
    "\n",
    "query = f\"\"\"SELECT profile_code, total_hours FROM [steam_players].[dbo].[nonzero_players]\n",
    "WHERE  {min_playtime} < total_hours AND total_hours <= {max_playtime} \n",
    "ORDER BY total_hours DESC\"\"\"\n",
    "\n",
    "cut_player_list = pl.read_database(query=query, connection=engine.connect())\n",
    "print(cut_player_list[:10])"
   ]
  },
  {
   "cell_type": "markdown",
   "metadata": {},
   "source": [
    "#### Sampling distribution ( replicating the distribution -not neccesary- sampling produces similar distribution)"
   ]
  },
  {
   "cell_type": "code",
   "execution_count": 7,
   "metadata": {},
   "outputs": [],
   "source": [
    "import numpy as np\n",
    "import matplotlib.pyplot as plt\n",
    "rng = np.random.default_rng(12345)"
   ]
  },
  {
   "cell_type": "code",
   "execution_count": 10,
   "metadata": {},
   "outputs": [
    {
     "data": {
      "image/png": "[encoded data removed]",
      "text/plain": [
       "<Figure size 640x480 with 2 Axes>"
      ]
     },
     "metadata": {},
     "output_type": "display_data"
    }
   ],
   "source": [
    "\n",
    "hist, bins = np.histogram(total_times, range=(0,20_000), bins=200)\n",
    "bin_midpoints = bins[:-1] + np.diff(bins)/2\n",
    "\n",
    "cdf = np.cumsum(hist)\n",
    "cdf = cdf / cdf[-1]    # normalised\n",
    "\n",
    "values = rng.random(500)\n",
    "value_bins = np.searchsorted(cdf, values)\n",
    "random_from_cdf = bin_midpoints[value_bins]\n",
    "\n",
    "plt.subplot(121)\n",
    "plt.hist(total_times, 200)\n",
    "plt.subplot(122)\n",
    "plt.hist(random_from_cdf, 100)\n",
    "plt.show()"
   ]
  },
  {
   "cell_type": "code",
   "execution_count": 17,
   "metadata": {},
   "outputs": [
    {
     "data": {
      "image/png": "[encoded data removed]",
      "text/plain": [
       "<Figure size 640x480 with 1 Axes>"
      ]
     },
     "metadata": {},
     "output_type": "display_data"
    }
   ],
   "source": [
    "sample = rng.choice(a=total_times, size=5000)\n",
    "samp_hist, sample_bins = np.histogram(sample, range=(0,20_000), bins=200)\n",
    "\n",
    "plt.hist(sample, 100)\n",
    "plt.show()"
   ]
  },
  {
   "cell_type": "markdown",
   "metadata": {},
   "source": [
    "#### Piecewise linear distribution inversion"
   ]
  },
  {
   "cell_type": "code",
   "execution_count": 64,
   "metadata": {},
   "outputs": [
    {
     "data": {
      "image/png": "[encoded data removed]",
      "text/plain": [
       "<Figure size 640x480 with 3 Axes>"
      ]
     },
     "metadata": {},
     "output_type": "display_data"
    }
   ],
   "source": [
    "hist, bins = np.histogram(total_times, range=(0,20_000), bins=200)\n",
    "bin_midpoints = bins[:-1] + np.diff(bins)/2\n",
    "cdf = np.cumsum(hist)\n",
    "cdf = cdf / cdf[-1]\n",
    "cdf_y = np.append(0, cdf)\n",
    "\n",
    "# y=x symmetry (assume no empty bins)\n",
    "x, y = cdf_y, bins\n",
    "\n",
    "# Plot\n",
    "plt.subplot(221)\n",
    "plt.plot(x, y)\n",
    "\n",
    "# Piecewise linear between points:\n",
    "sample_size = 1_000\n",
    "uniform_01_sample = rng.random(sample_size)\n",
    "hist_distr_sample = np.interp(uniform_01_sample, x, y)\n",
    "\n",
    "plt.subplot(223)\n",
    "plt.hist(total_times, 100)\n",
    "plt.subplot(224)\n",
    "plt.hist(hist_distr_sample, 100)\n",
    "\n",
    "plt.show()"
   ]
  },
  {
   "cell_type": "markdown",
   "metadata": {},
   "source": [
    "#### 1 < hours(player) < 20K"
   ]
  },
  {
   "cell_type": "code",
   "execution_count": 13,
   "metadata": {},
   "outputs": [
    {
     "data": {
      "text/html": [
       "<div><style>\n",
       ".dataframe > thead > tr,\n",
       ".dataframe > tbody > tr {\n",
       "  text-align: right;\n",
       "  white-space: pre-wrap;\n",
       "}\n",
       "</style>\n",
       "<small>shape: (162_463, 2)</small><table border=\"1\" class=\"dataframe\"><thead><tr><th>profile_code</th><th>total_hours</th></tr><tr><td>decimal[28,0]</td><td>i64</td></tr></thead><tbody><tr><td>304372</td><td>18059</td></tr><tr><td>410855</td><td>2581</td></tr><tr><td>324256</td><td>5356</td></tr><tr><td>158635</td><td>5338</td></tr><tr><td>175501</td><td>1772</td></tr><tr><td>&hellip;</td><td>&hellip;</td></tr><tr><td>443086</td><td>750</td></tr><tr><td>215968</td><td>967</td></tr><tr><td>37816</td><td>100</td></tr><tr><td>63068</td><td>1147</td></tr><tr><td>245368</td><td>31</td></tr></tbody></table></div>"
      ],
      "text/plain": [
       "shape: (162_463, 2)\n",
       "┌───────────────┬─────────────┐\n",
       "│ profile_code  ┆ total_hours │\n",
       "│ ---           ┆ ---         │\n",
       "│ decimal[28,0] ┆ i64         │\n",
       "╞═══════════════╪═════════════╡\n",
       "│ 304372        ┆ 18059       │\n",
       "│ 410855        ┆ 2581        │\n",
       "│ 324256        ┆ 5356        │\n",
       "│ 158635        ┆ 5338        │\n",
       "│ 175501        ┆ 1772        │\n",
       "│ …             ┆ …           │\n",
       "│ 443086        ┆ 750         │\n",
       "│ 215968        ┆ 967         │\n",
       "│ 37816         ┆ 100         │\n",
       "│ 63068         ┆ 1147        │\n",
       "│ 245368        ┆ 31          │\n",
       "└───────────────┴─────────────┘"
      ]
     },
     "execution_count": 13,
     "metadata": {},
     "output_type": "execute_result"
    }
   ],
   "source": [
    "import polars as pl\n",
    "\n",
    "query = \"\"\"SELECT profile_code,total_hours FROM [steam_players].[dbo].[nonzero_players]\n",
    "WHERE total_hours < 20000 AND total_hours > 1\"\"\"\n",
    "\n",
    "pl.read_database(query=query, connection=engine.connect())"
   ]
  },
  {
   "cell_type": "markdown",
   "metadata": {},
   "source": [
    "### Total game times"
   ]
  },
  {
   "cell_type": "code",
   "execution_count": 3,
   "metadata": {},
   "outputs": [],
   "source": [
    "# columns: hours_on_record, hours_last_2_weeks, profile_code, game_name\n",
    "import polars as pl\n",
    "\n",
    "query = \"\"\"SELECT game_code, SUM(hours_on_record) AS game_time\n",
    "FROM [steam_players].[dbo].[games_data]\n",
    "GROUP BY game_code\n",
    "HAVING SUM(hours_on_record) > 0\n",
    "ORDER BY SUM(hours_on_record) DESC;\"\"\"\n",
    "\n",
    "games_time = pl.read_database(query=query, connection=engine.connect())\n",
    "# print(games_time[:10])\n",
    "# gt_times = games_time[\"game_time\"].to_numpy()\n",
    "# gt_times[gt_times==1].sum()"
   ]
  },
  {
   "cell_type": "code",
   "execution_count": 5,
   "metadata": {},
   "outputs": [
    {
     "data": {
      "text/html": [
       "<div><style>\n",
       ".dataframe > thead > tr,\n",
       ".dataframe > tbody > tr {\n",
       "  text-align: right;\n",
       "  white-space: pre-wrap;\n",
       "}\n",
       "</style>\n",
       "<small>shape: (10, 2)</small><table border=\"1\" class=\"dataframe\"><thead><tr><th>game_code</th><th>game_time</th></tr><tr><td>i64</td><td>i64</td></tr></thead><tbody><tr><td>8025</td><td>242830446</td></tr><tr><td>8449</td><td>62745203</td></tr><tr><td>18723</td><td>26610802</td></tr><tr><td>52848</td><td>18369653</td></tr><tr><td>57411</td><td>18364803</td></tr><tr><td>40000</td><td>15865255</td></tr><tr><td>50438</td><td>15085000</td></tr><tr><td>45705</td><td>14728386</td></tr><tr><td>54197</td><td>10604639</td></tr><tr><td>56207</td><td>8043266</td></tr></tbody></table></div>"
      ],
      "text/plain": [
       "shape: (10, 2)\n",
       "┌───────────┬───────────┐\n",
       "│ game_code ┆ game_time │\n",
       "│ ---       ┆ ---       │\n",
       "│ i64       ┆ i64       │\n",
       "╞═══════════╪═══════════╡\n",
       "│ 8025      ┆ 242830446 │\n",
       "│ 8449      ┆ 62745203  │\n",
       "│ 18723     ┆ 26610802  │\n",
       "│ 52848     ┆ 18369653  │\n",
       "│ 57411     ┆ 18364803  │\n",
       "│ 40000     ┆ 15865255  │\n",
       "│ 50438     ┆ 15085000  │\n",
       "│ 45705     ┆ 14728386  │\n",
       "│ 54197     ┆ 10604639  │\n",
       "│ 56207     ┆ 8043266   │\n",
       "└───────────┴───────────┘"
      ]
     },
     "execution_count": 5,
     "metadata": {},
     "output_type": "execute_result"
    }
   ],
   "source": [
    "games_time[:10]#['game_code'].to_numpy()"
   ]
  },
  {
   "cell_type": "code",
   "execution_count": 4,
   "metadata": {},
   "outputs": [
    {
     "data": {
      "image/png": "[encoded data removed]",
      "text/plain": [
       "<Figure size 640x480 with 1 Axes>"
      ]
     },
     "metadata": {},
     "output_type": "display_data"
    }
   ],
   "source": [
    "import numpy as np\n",
    "import matplotlib.pyplot as plt\n",
    "rng = np.random.default_rng(12345)\n",
    "\n",
    "gt_times = games_time[\"game_time\"].to_numpy()\n",
    "gt_times = gt_times[gt_times > 2]\n",
    "\n",
    "gt_bins = [10**i for i in np.linspace(start=0, stop=9, num=100)]\n",
    "gt_hist, gt_bins = np.histogram(gt_times, bins=gt_bins)\n",
    "\n",
    "# horizontal bars levels\n",
    "orders = np.array([10**i for i in range(3)]).reshape(-1,1)\n",
    "digits = np.arange(1,11,1)\n",
    "y_vals = (orders * digits).flatten()\n",
    "\n",
    "fig, ax = plt.subplots(1, sharey=True, tight_layout=True)\n",
    "\n",
    "ax.set_xscale('log')\n",
    "ax.set_xlabel('hours of total gameplay')\n",
    "plt.xticks(\n",
    "    ticks=[3, 10, 100, 10**3, 10**4, 10**5, 10**6, 10**7,10**8, 10**9],\n",
    "    labels=['$3$', '$10$', '$100$',\"$10^3$\",\"$10^4$\",\"$10^5$\",\"$10^6$\",\"$10^7$\",\"$10^8$\",\"$10^9$\"]\n",
    "    )\n",
    "\n",
    "ax.set_yscale('log')\n",
    "ax.set_ylabel('number of games')\n",
    "\n",
    "ax.stairs(gt_hist, gt_bins, fill=True,)\n",
    "ax.hlines(y_vals, xmin=1, xmax=10**9, colors='black', linewidth=0.25)\n",
    "plt.show()"
   ]
  },
  {
   "cell_type": "markdown",
   "metadata": {},
   "source": [
    "# N games with M players with x of their time in those N games\n",
    "Let \\\n",
    "$\\quad\\Omega$ be the set of all games, \\\n",
    "$\\quad\\Gamma$ be the set of all players, \\\n",
    "$\\quad x \\in [0,1]$\\\n",
    "For given $G \\subset \\Omega$, let $P(G) \\subset\\Gamma$, such that: \\\n",
    "    $\\quad \\forall p\\in P(G) \\quad x*\\text{playtime}(p,\\Omega)\\geq\\text{playtime}(p,G)$.\n",
    "\n",
    "Players in $P(G)$ have more than $x$ of their total playtime in games from subset $G$"
   ]
  },
  {
   "cell_type": "code",
   "execution_count": 77,
   "metadata": {},
   "outputs": [],
   "source": [
    "## table of player times to polars:\n",
    "import polars as pl\n",
    "\n",
    "# query = \"\"\"SELECT * FROM steam_players.dbo.players_times\"\"\"\n",
    "\n",
    "# players_times = pl.read_database(query=query, connection=engine.connect())"
   ]
  },
  {
   "cell_type": "code",
   "execution_count": 20,
   "metadata": {},
   "outputs": [
    {
     "data": {
      "text/plain": [
       "[8025, 8449, 18723, 52848, 57411]"
      ]
     },
     "execution_count": 20,
     "metadata": {},
     "output_type": "execute_result"
    }
   ],
   "source": [
    "## Subset of games:\n",
    "G = list(games_time['game_code'][:5])\n",
    "G"
   ]
  },
  {
   "cell_type": "markdown",
   "metadata": {},
   "source": [
    "## string parsing for a sql query"
   ]
  },
  {
   "cell_type": "code",
   "execution_count": 9,
   "metadata": {},
   "outputs": [
    {
     "name": "stdout",
     "output_type": "stream",
     "text": [
      "WITH \n",
      "\tg0 AS (\n",
      "\tSELECT TOP 10000 profile_code, hours_on_record\n",
      "\tFROM steam_players.dbo.games_data\n",
      "\tWHERE game_code = 1\n",
      "\t),\n",
      "\tg1 AS (\n",
      "\tSELECT TOP 10000 profile_code, hours_on_record\n",
      "\tFROM steam_players.dbo.games_data\n",
      "\tWHERE game_code = 2\n",
      "\t),\n",
      "\tunion_of_profile_codes AS (\n",
      "\tSELECT profile_code FROM g0\n",
      "\tUNION\n",
      "\tSELECT profile_code FROM g1\n",
      "\t)\n",
      "SELECT\n",
      "\tunion_of_profile_codes.profile_code AS profile_code,\n",
      "\tCOALESCE(g0.hours_on_record, 0) AS game_0,\n",
      "\tCOALESCE(g1.hours_on_record, 0) AS game_1\n",
      "FROM\n",
      "\tunion_of_profile_codes\n",
      "LEFT JOIN g0\n",
      "ON union_of_profile_codes.profile_code = g0.profile_code\n",
      "LEFT JOIN g1\n",
      "ON union_of_profile_codes.profile_code = g1.profile_code;\n"
     ]
    }
   ],
   "source": [
    "from query_generators.generators import query_for_gamecodes\n",
    "print(query_for_gamecodes(code_list=[8025, 8449, 18723]))"
   ]
  },
  {
   "cell_type": "code",
   "execution_count": 7,
   "metadata": {},
   "outputs": [],
   "source": [
    "example_list = [8025, 8449, 18723, 52848, 57411]\n",
    "# print(query_for_gamecodes(example_list))"
   ]
  },
  {
   "cell_type": "code",
   "execution_count": 69,
   "metadata": {},
   "outputs": [],
   "source": [
    "import polars as pl\n",
    "\n",
    "query = query_for_gamecodes(example_list)\n",
    "\n",
    "four_games = pl.read_database(query=query, connection=engine.connect())"
   ]
  },
  {
   "cell_type": "code",
   "execution_count": 75,
   "metadata": {},
   "outputs": [
    {
     "data": {
      "text/plain": [
       "array([[1683,    0,    0,  356,    0],\n",
       "       [1668,    0,    0,    0,  300],\n",
       "       [   0,    0,    0,    0,    0],\n",
       "       ...,\n",
       "       [   0,    0,    0,    0,    0],\n",
       "       [   0,    0,   17,    0,    0],\n",
       "       [   0,    0,    0, 1274,    0]], dtype=int64)"
      ]
     },
     "execution_count": 75,
     "metadata": {},
     "output_type": "execute_result"
    }
   ],
   "source": [
    "four_games.select(pl.exclude(\"profile_code\")).to_numpy()"
   ]
  },
  {
   "cell_type": "code",
   "execution_count": 29,
   "metadata": {},
   "outputs": [
    {
     "data": {
      "text/plain": [
       "\"SELECT TOP 14 profile_code, ISNULL([Team Fortress 2], 0) AS G0, ISNULL([Garry's Mod], 0) AS G1, ISNULL([Counter-Strike 2], 0) AS G2FROM (SELECT * FROM steam_players.dbo.players_times WHERE game_name IN ('Team Fortress 2','Garry's Mod','Counter-Strike 2')) AS SourceTable PIVOT ( MAX(hours_on_record) FOR game_name IN ([A[]], [B()], [C])) AS PivotTable;\""
      ]
     },
     "execution_count": 29,
     "metadata": {},
     "output_type": "execute_result"
    }
   ],
   "source": [
    "def column_headers_string(input_list):\n",
    "    # test: column_headers_string(['A','B','C'])\n",
    "    return ', '.join(f\"ISNULL([{item}], 0) AS G{index}\" for index, item in enumerate(input_list))\n",
    "def where_games_list(input_list):\n",
    "    #test: where_games_list(['A[]','B()','C'])\n",
    "    return f\"\"\"('{\"','\".join(input_list)}')\"\"\"\n",
    "def pivot_game_list(input_list):\n",
    "    return \"(\"+\", \".join([f\"[{game}]\" for game in ['A[]','B()','C']])+\")\"\n",
    "\n",
    "def profile_for_game_list(num_of_players, game_list):\n",
    "    \n",
    "    part_0 = f\"SELECT TOP {num_of_players} profile_code, \"\n",
    "    part_1 = \"FROM (SELECT * FROM steam_players.dbo.players_times WHERE game_name IN \"\n",
    "    part_2 = \") AS SourceTable PIVOT ( MAX(hours_on_record) FOR game_name IN \"\n",
    "    part_3 = \") AS PivotTable;\"\n",
    "    between_0_1 = column_headers_string(game_list)\n",
    "    between_1_2 = where_games_list(game_list)\n",
    "    between_2_3 = pivot_game_list(game_list)\n",
    "    \n",
    "    final_query = part_0 + between_0_1 + part_1 + between_1_2 + part_2 + between_2_3 +part_3\n",
    "    return final_query\n",
    "\n",
    "profile_for_game_list(14, ['Team Fortress 2',\"Garry's Mod\",'Counter-Strike 2'])\n",
    "\n",
    "\n"
   ]
  },
  {
   "cell_type": "code",
   "execution_count": 26,
   "metadata": {},
   "outputs": [
    {
     "data": {
      "text/plain": [
       "'([A[]], [B()], [C])'"
      ]
     },
     "execution_count": 26,
     "metadata": {},
     "output_type": "execute_result"
    }
   ],
   "source": [
    "\"(\"+\", \".join([f\"[{game}]\" for game in ['A[]','B()','C']])+\")\""
   ]
  },
  {
   "cell_type": "markdown",
   "metadata": {},
   "source": [
    "# Tosia Part"
   ]
  },
  {
   "cell_type": "code",
   "execution_count": 5,
   "metadata": {},
   "outputs": [],
   "source": [
    "import numpy as np\n",
    "import random \n",
    "\n",
    "n_rows = 50\n",
    "n_cols = 250\n",
    "rank = 3\n",
    "\n",
    "x = np.random.default_rng().normal(size=(n_rows, rank)) \n",
    "y = np.random.default_rng().normal(size=(rank, n_cols)) \n",
    "M = np.dot(x, y)\n",
    "\n",
    "M_incomplete = np.copy(M)\n",
    "num_missing_elements = int(0.7 * M.size)\n",
    "indices_to_zero = random.sample(range(M.size), k=num_missing_elements)\n",
    "rows, cols = np.unravel_index(indices_to_zero, M.shape)\n",
    "M_incomplete[rows, cols] = np.nan"
   ]
  },
  {
   "cell_type": "code",
   "execution_count": 2,
   "metadata": {},
   "outputs": [],
   "source": [
    "from csmc import CSMC\n",
    "solver = CSMC(M_incomplete, col_number=100)\n",
    "M_filled = solver.fit_transform(M_incomplete)"
   ]
  },
  {
   "cell_type": "code",
   "execution_count": 3,
   "metadata": {},
   "outputs": [],
   "source": [
    "from csmc import NuclearNormMin\n",
    "solver = NuclearNormMin(M_incomplete)\n",
    "M_filled = solver.fit_transform(M_incomplete, np.isnan(M_incomplete))\n",
    "# np.linalg.norm(M-M_filled)\n",
    "# np.linalg.norm(M_incomplete)"
   ]
  },
  {
   "cell_type": "markdown",
   "metadata": {},
   "source": [
    "#### Completeing one column"
   ]
  },
  {
   "cell_type": "code",
   "execution_count": 52,
   "metadata": {},
   "outputs": [],
   "source": [
    "n_rows = 50\n",
    "n_cols = 250\n",
    "rank = 3\n",
    "\n",
    "x = np.random.default_rng().normal(size=(n_rows, rank))**2\n",
    "y = np.random.default_rng().normal(size=(rank, n_cols))**2\n",
    "M = np.dot(x, y)\n",
    "\n",
    "# Column of almost nan's:\n",
    "a = np.empty((50,1))\n",
    "a[:] = np.nan\n",
    "a[0,0] = 10\n",
    "\n",
    "M_incomplete = np.hstack([M,a])\n",
    "\n",
    "from csmc import NuclearNormMin\n",
    "solver = NuclearNormMin(M_incomplete)\n",
    "M_filled = solver.fit_transform(M_incomplete, np.isnan(M_incomplete))"
   ]
  },
  {
   "cell_type": "code",
   "execution_count": 5,
   "metadata": {},
   "outputs": [],
   "source": [
    "from csmc import NuclearNormMin\n",
    "import numpy as np\n",
    "\n",
    "# 50 most popular games :\n",
    "num_of_games = 50\n",
    "game_codes = games_time[:num_of_games][\"game_code\"].to_numpy()\n",
    "\n",
    "# query = query_for_gamecodes(game_codes)\n",
    "\n",
    "# table = pl.read_database(query=query, connection=engine.connect())\n",
    "# print(query_for_gamecodes(game_codes))\n",
    "\n",
    "\n",
    "\n",
    "# beh_source = four_games.select(pl.exclude(\"profile_code\")).to_numpy()\n",
    "# M_incomplete = np.vstack([beh_source, a])"
   ]
  },
  {
   "cell_type": "code",
   "execution_count": 6,
   "metadata": {},
   "outputs": [
    {
     "name": "stdout",
     "output_type": "stream",
     "text": [
      "Stored 'source_table' (DataFrame)\n"
     ]
    }
   ],
   "source": [
    "query = query_for_gamecodes(game_codes)\n",
    "\n",
    "source_table = pl.read_database(query=query, \n",
    "                                connection=engine.connect(),\n",
    "                                schema_overrides={\"profile_code\" : pl.Int32})\n",
    "%store source_table"
   ]
  },
  {
   "cell_type": "code",
   "execution_count": 1,
   "metadata": {},
   "outputs": [],
   "source": [
    "import polars as pl\n",
    "import numpy as np\n",
    "%store -r\n"
   ]
  },
  {
   "cell_type": "code",
   "execution_count": 2,
   "metadata": {},
   "outputs": [],
   "source": [
    "map_dict = {0 : np.nan}\n",
    "table = source_table.with_columns(sum=pl.sum_horizontal(pl.all().exclude(\"profile_code\")))\n",
    "table = table.with_columns(pl.all().exclude(\"profile_code\",\"sum\").replace(map_dict))"
   ]
  },
  {
   "cell_type": "code",
   "execution_count": 3,
   "metadata": {},
   "outputs": [],
   "source": [
    "M_incomplete = table.sort(by=\"sum\", descending=True).select(pl.all().exclude(\"profile_code\",\"sum\")).to_numpy()[:100]\n",
    "row_Q = np.array([[np.nan for i in range(50)]])\n",
    "row_Q[0,0] = 300 \n",
    "row_Q[0,1] = 200 \n",
    "row_Q[0,2] = 100 \n",
    "M_with_Q = np.vstack([M_incomplete,row_Q]).T"
   ]
  },
  {
   "cell_type": "code",
   "execution_count": 4,
   "metadata": {},
   "outputs": [],
   "source": [
    "from csmc import CSMC\n",
    "solver = CSMC(M_with_Q, col_number=100)\n",
    "M_filled = solver.fit_transform(M_with_Q)\n",
    "\n",
    "# from csmc import NuclearNormMin\n",
    "# solver = NuclearNormMin(M_with_Q)\n",
    "# M_filled = solver.fit_transform(M_with_Q, np.isnan(M_with_Q))"
   ]
  },
  {
   "cell_type": "code",
   "execution_count": 26,
   "metadata": {},
   "outputs": [
    {
     "data": {
      "text/plain": [
       "(632,)"
      ]
     },
     "execution_count": 26,
     "metadata": {},
     "output_type": "execute_result"
    }
   ],
   "source": [
    "M_with_Q[np.isnan(M_with_Q)==False].shape"
   ]
  },
  {
   "cell_type": "code",
   "execution_count": null,
   "metadata": {},
   "outputs": [],
   "source": []
  }
 ],
 "metadata": {
  "kernelspec": {
   "display_name": "sqlpy312",
   "language": "python",
   "name": "python3"
  },
  "language_info": {
   "codemirror_mode": {
    "name": "ipython",
    "version": 3
   },
   "file_extension": ".py",
   "mimetype": "text/x-python",
   "name": "python",
   "nbconvert_exporter": "python",
   "pygments_lexer": "ipython3",
   "version": "3.10.14"
  }
 },
 "nbformat": 4,
 "nbformat_minor": 2
}
